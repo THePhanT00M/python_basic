{
 "cells": [
  {
   "cell_type": "markdown",
   "id": "331b9cdb-08e8-48a3-914b-89180af90f99",
   "metadata": {},
   "source": [
    "# 연습문제 9"
   ]
  },
  {
   "cell_type": "code",
   "execution_count": 1,
   "id": "9a888f19-796a-418e-8a97-7c6a581b0bee",
   "metadata": {},
   "outputs": [
    {
     "name": "stdout",
     "output_type": "stream",
     "text": [
      "   이름  나이  성별\n",
      "0  철수  25  남자\n",
      "1  영희  30  여자\n",
      "2  민수  22  남자\n",
      "3  지영  28  여자\n"
     ]
    }
   ],
   "source": [
    "import pandas as pd\n",
    "\n",
    "data = {'이름': ['철수', '영희', '민수', '지영'], '나이': [25, 30, 22, 28], '성별': ['남자', '여자', '남자', '여자']}\n",
    "df = pd.DataFrame(data)\n",
    "print(df)"
   ]
  },
  {
   "cell_type": "markdown",
   "id": "025db598-a8e2-41ba-96cb-5e01f12abf54",
   "metadata": {},
   "source": [
    "# 연습문제 10"
   ]
  },
  {
   "cell_type": "code",
   "execution_count": 19,
   "id": "5e027677-bf7f-4ba9-a7df-4bbf3c98646a",
   "metadata": {},
   "outputs": [
    {
     "data": {
      "text/html": [
       "<div>\n",
       "<style scoped>\n",
       "    .dataframe tbody tr th:only-of-type {\n",
       "        vertical-align: middle;\n",
       "    }\n",
       "\n",
       "    .dataframe tbody tr th {\n",
       "        vertical-align: top;\n",
       "    }\n",
       "\n",
       "    .dataframe thead th {\n",
       "        text-align: right;\n",
       "    }\n",
       "</style>\n",
       "<table border=\"1\" class=\"dataframe\">\n",
       "  <thead>\n",
       "    <tr style=\"text-align: right;\">\n",
       "      <th></th>\n",
       "      <th>col1</th>\n",
       "      <th>col2</th>\n",
       "    </tr>\n",
       "  </thead>\n",
       "  <tbody>\n",
       "    <tr>\n",
       "      <th>0</th>\n",
       "      <td>a</td>\n",
       "      <td>1</td>\n",
       "    </tr>\n",
       "    <tr>\n",
       "      <th>1</th>\n",
       "      <td>b</td>\n",
       "      <td>2</td>\n",
       "    </tr>\n",
       "    <tr>\n",
       "      <th>2</th>\n",
       "      <td>c</td>\n",
       "      <td>3</td>\n",
       "    </tr>\n",
       "  </tbody>\n",
       "</table>\n",
       "</div>"
      ],
      "text/plain": [
       "  col1  col2\n",
       "0    a     1\n",
       "1    b     2\n",
       "2    c     3"
      ]
     },
     "execution_count": 19,
     "metadata": {},
     "output_type": "execute_result"
    }
   ],
   "source": [
    "import pandas as pd\n",
    "\n",
    "data = {'col1': ['a', 'b', 'c'], 'col2': [1, 2, 3]}\n",
    "df = pd.DataFrame(data)\n",
    "\n",
    "df.loc[:2, 'col1':'col2']"
   ]
  },
  {
   "cell_type": "markdown",
   "id": "e9e9ed2c-6fd6-41e3-a904-7546c0a0b406",
   "metadata": {},
   "source": [
    "# 연습문제 12"
   ]
  },
  {
   "cell_type": "code",
   "execution_count": 31,
   "id": "9606b7f1-0a8c-40f6-8fb5-f0c03b912a8b",
   "metadata": {},
   "outputs": [
    {
     "name": "stdout",
     "output_type": "stream",
     "text": [
      "  col1  col2 col3  col4\n",
      "0    a   1.0    a  10.0\n",
      "1    b   2.0    b  20.0\n",
      "2    c   3.0  NaN   NaN\n",
      "3  NaN   NaN    f  30.0\n"
     ]
    }
   ],
   "source": [
    "import pandas as pd\n",
    "\n",
    "df1 = pd.DataFrame({'col1': ['a', 'b', 'c'], 'col2': [1, 2, 3]})\n",
    "df2 = pd.DataFrame({'col3': ['a', 'b', 'f'], 'col4': [10, 20, 30]})\n",
    "\n",
    "df3 = pd.merge(df1, df2, left_on='col1', right_on='col3', how='outer')\n",
    "print(df3)\n"
   ]
  },
  {
   "cell_type": "markdown",
   "id": "485c68da-f4ee-4ee7-a0f6-906470d2931c",
   "metadata": {},
   "source": [
    "# 연습문제 13"
   ]
  },
  {
   "cell_type": "code",
   "execution_count": 113,
   "id": "30d81097-cf47-4983-8fb4-c4118a4f34cb",
   "metadata": {},
   "outputs": [
    {
     "data": {
      "text/html": [
       "<div>\n",
       "<style scoped>\n",
       "    .dataframe tbody tr th:only-of-type {\n",
       "        vertical-align: middle;\n",
       "    }\n",
       "\n",
       "    .dataframe tbody tr th {\n",
       "        vertical-align: top;\n",
       "    }\n",
       "\n",
       "    .dataframe thead th {\n",
       "        text-align: right;\n",
       "    }\n",
       "</style>\n",
       "<table border=\"1\" class=\"dataframe\">\n",
       "  <thead>\n",
       "    <tr style=\"text-align: right;\">\n",
       "      <th></th>\n",
       "      <th>name</th>\n",
       "      <th>score</th>\n",
       "    </tr>\n",
       "  </thead>\n",
       "  <tbody>\n",
       "    <tr>\n",
       "      <th>1</th>\n",
       "      <td>영희</td>\n",
       "      <td>88</td>\n",
       "    </tr>\n",
       "    <tr>\n",
       "      <th>2</th>\n",
       "      <td>민수</td>\n",
       "      <td>92</td>\n",
       "    </tr>\n",
       "  </tbody>\n",
       "</table>\n",
       "</div>"
      ],
      "text/plain": [
       "  name  score\n",
       "1   영희     88\n",
       "2   민수     92"
      ]
     },
     "execution_count": 113,
     "metadata": {},
     "output_type": "execute_result"
    }
   ],
   "source": [
    "import pandas as pd\n",
    "\n",
    "data = {'name': ['철수', '영희', '민수', '지영'], 'score': [75, 88, 92, 68]}\n",
    "\n",
    "df = pd.DataFrame(data)\n",
    "\n",
    "df1 = df[df['score'] >= 80]\n",
    "\n",
    "df1"
   ]
  },
  {
   "cell_type": "markdown",
   "id": "412eb336-56b5-43d3-9470-60015130a248",
   "metadata": {},
   "source": [
    "# 연습문제 14"
   ]
  },
  {
   "cell_type": "code",
   "execution_count": 114,
   "id": "9a72e1f4-145f-4ca2-b6e4-2266c67e036b",
   "metadata": {},
   "outputs": [
    {
     "name": "stdout",
     "output_type": "stream",
     "text": [
      "    name  score\n",
      "0  False  False\n",
      "1  False  False\n",
      "2   True   True\n",
      "3  False  False\n"
     ]
    }
   ],
   "source": [
    "import pandas as pd\n",
    "data = {'name': ['철수', '영희', None, '지영'], 'score': [75, 88, None, 68]}\n",
    "df = pd.DataFrame(data)\n",
    "result = df.isna()\n",
    "print(result)"
   ]
  },
  {
   "cell_type": "markdown",
   "id": "1708f34e-f95b-4db5-965c-8f1be4cb9a88",
   "metadata": {},
   "source": [
    "# 연습문제 16"
   ]
  },
  {
   "cell_type": "code",
   "execution_count": 120,
   "id": "19035995-ac5b-4e0e-ad84-55e13253def9",
   "metadata": {},
   "outputs": [
    {
     "data": {
      "text/plain": [
       "0    5\n",
       "1    7\n",
       "2    9\n",
       "dtype: int64"
      ]
     },
     "execution_count": 120,
     "metadata": {},
     "output_type": "execute_result"
    }
   ],
   "source": [
    "import pandas as pd\n",
    "\n",
    "data = {'col1': [1, 2, 3], 'col2': [4, 5, 6]}\n",
    "df = pd.DataFrame(data)\n",
    "\n",
    "result = df.apply(lambda row: row['col1'] + row['col2'], axis=\"columns\")\n",
    "\n",
    "print(result)"
   ]
  },
  {
   "cell_type": "markdown",
   "id": "f1e913a6-3dce-49d4-b0f0-0882881c8eac",
   "metadata": {},
   "source": [
    "# 연습문제 17"
   ]
  },
  {
   "cell_type": "code",
   "execution_count": 121,
   "id": "35a3ff93-b0ed-406e-abdd-defdef7baf5c",
   "metadata": {},
   "outputs": [
    {
     "data": {
      "text/html": [
       "<div>\n",
       "<style scoped>\n",
       "    .dataframe tbody tr th:only-of-type {\n",
       "        vertical-align: middle;\n",
       "    }\n",
       "\n",
       "    .dataframe tbody tr th {\n",
       "        vertical-align: top;\n",
       "    }\n",
       "\n",
       "    .dataframe thead th {\n",
       "        text-align: right;\n",
       "    }\n",
       "</style>\n",
       "<table border=\"1\" class=\"dataframe\">\n",
       "  <thead>\n",
       "    <tr style=\"text-align: right;\">\n",
       "      <th></th>\n",
       "      <th>names</th>\n",
       "      <th>score</th>\n",
       "    </tr>\n",
       "  </thead>\n",
       "  <tbody>\n",
       "    <tr>\n",
       "      <th>0</th>\n",
       "      <td>철수</td>\n",
       "      <td>75</td>\n",
       "    </tr>\n",
       "    <tr>\n",
       "      <th>1</th>\n",
       "      <td>영희</td>\n",
       "      <td>88</td>\n",
       "    </tr>\n",
       "    <tr>\n",
       "      <th>2</th>\n",
       "      <td>민수</td>\n",
       "      <td>92</td>\n",
       "    </tr>\n",
       "    <tr>\n",
       "      <th>3</th>\n",
       "      <td>지영</td>\n",
       "      <td>68</td>\n",
       "    </tr>\n",
       "    <tr>\n",
       "      <th>4</th>\n",
       "      <td>다현</td>\n",
       "      <td>95</td>\n",
       "    </tr>\n",
       "  </tbody>\n",
       "</table>\n",
       "</div>"
      ],
      "text/plain": [
       "  names  score\n",
       "0    철수     75\n",
       "1    영희     88\n",
       "2    민수     92\n",
       "3    지영     68\n",
       "4    다현     95"
      ]
     },
     "execution_count": 121,
     "metadata": {},
     "output_type": "execute_result"
    }
   ],
   "source": [
    "import pandas as pd\n",
    "\n",
    "data1 = {'names' : ['철수', '영희', '민수'], 'score' : [75, 88, 92]}\n",
    "data2 = {'names' : ['지영', '다현'], 'score' : [68, 95]}\n",
    "\n",
    "df1 = pd.DataFrame(data1)\n",
    "df2 = pd.DataFrame(data2)\n",
    "\n",
    "df3 = pd.concat([df1, df2], ignore_index=True)\n",
    "\n",
    "df3"
   ]
  },
  {
   "cell_type": "markdown",
   "id": "b31f2822-e8e6-47a0-bf80-4a28b29bf631",
   "metadata": {},
   "source": [
    "# 연습문제 18"
   ]
  },
  {
   "cell_type": "code",
   "execution_count": 122,
   "id": "6a87828b-ead5-492c-aa58-ecbb80413876",
   "metadata": {},
   "outputs": [
    {
     "data": {
      "text/html": [
       "<div>\n",
       "<style scoped>\n",
       "    .dataframe tbody tr th:only-of-type {\n",
       "        vertical-align: middle;\n",
       "    }\n",
       "\n",
       "    .dataframe tbody tr th {\n",
       "        vertical-align: top;\n",
       "    }\n",
       "\n",
       "    .dataframe thead th {\n",
       "        text-align: right;\n",
       "    }\n",
       "</style>\n",
       "<table border=\"1\" class=\"dataframe\">\n",
       "  <thead>\n",
       "    <tr style=\"text-align: right;\">\n",
       "      <th></th>\n",
       "      <th>name</th>\n",
       "      <th>score</th>\n",
       "      <th>attendence_rate</th>\n",
       "    </tr>\n",
       "  </thead>\n",
       "  <tbody>\n",
       "    <tr>\n",
       "      <th>0</th>\n",
       "      <td>철수</td>\n",
       "      <td>75</td>\n",
       "      <td>80</td>\n",
       "    </tr>\n",
       "    <tr>\n",
       "      <th>1</th>\n",
       "      <td>영희</td>\n",
       "      <td>88</td>\n",
       "      <td>90</td>\n",
       "    </tr>\n",
       "  </tbody>\n",
       "</table>\n",
       "</div>"
      ],
      "text/plain": [
       "  name  score  attendence_rate\n",
       "0   철수     75               80\n",
       "1   영희     88               90"
      ]
     },
     "execution_count": 122,
     "metadata": {},
     "output_type": "execute_result"
    }
   ],
   "source": [
    "import pandas as pd\n",
    "\n",
    "data1 = {'name' : ['철수', '영희', '민수'], 'score' : [75, 88, 92]}\n",
    "data2 = {'name' : ['영희', '철수', '지영', '다현'], 'attendence_rate' : [90, 80, 95, 85]}\n",
    "\n",
    "df1 = pd.DataFrame(data1)\n",
    "df2 = pd.DataFrame(data2)\n",
    "\n",
    "df3 = pd.merge(df1, df2, on='name', how='inner')\n",
    "\n",
    "df3"
   ]
  },
  {
   "cell_type": "markdown",
   "id": "a8423147-74f3-4bf3-9de2-858ca9788bf0",
   "metadata": {},
   "source": [
    "# 연습문제 19-1"
   ]
  },
  {
   "cell_type": "code",
   "execution_count": 1,
   "id": "ccc5d817-abc2-407a-b557-a6df220af485",
   "metadata": {},
   "outputs": [
    {
     "name": "stdout",
     "output_type": "stream",
     "text": [
      "Example Domain\n"
     ]
    }
   ],
   "source": [
    "import requests\n",
    "from bs4 import BeautifulSoup\n",
    "\n",
    "# 타겟 웹페이지 URL\n",
    "url = 'https://example.com'\n",
    "\n",
    "# HTML 가져오기\n",
    "response = requests.get(url)\n",
    "\n",
    "# HTML 파싱\n",
    "soup = BeautifulSoup(response.content, 'html.parser')\n",
    "\n",
    "# 'h1' 태그 추출\n",
    "target_tag = soup.find('h1')\n",
    "\n",
    "# 'h1' 태그 내용 추출\n",
    "target_content = target_tag.text if target_tag else '태그를 찾을 수 없음.'\n",
    "\n",
    "# 결과 출력\n",
    "print(target_content)"
   ]
  },
  {
   "cell_type": "markdown",
   "id": "78fb1dde-6634-474f-ae1a-75f1c4682572",
   "metadata": {},
   "source": [
    "# 연습문제 19-2"
   ]
  },
  {
   "cell_type": "code",
   "execution_count": 8,
   "id": "75d42bf7-6a2c-4f89-9456-eac797c1998e",
   "metadata": {},
   "outputs": [
    {
     "name": "stdout",
     "output_type": "stream",
     "text": [
      "특정 a 요소의 개수: 1\n",
      "특정 a 요소의 속성 href 값 가져오기: https://www.iana.org/domains/example\n"
     ]
    }
   ],
   "source": [
    "from selenium import webdriver\n",
    "from selenium.webdriver.common.by import By\n",
    "driver = webdriver.Chrome()\n",
    "driver.get(\"https://example.com\")\n",
    "elements_with_a = driver.find_elements(By.CSS_SELECTOR, \"a\")\n",
    "print(\"특정 a 요소의 개수:\", len(elements_with_a))\n",
    "print(\"특정 a 요소의 속성 href 값 가져오기:\",\n",
    "elements_with_a[0].get_attribute(\"href\"))\n",
    "driver.quit()"
   ]
  },
  {
   "cell_type": "markdown",
   "id": "8b290aed-8120-47ea-9a8c-999f306f0327",
   "metadata": {},
   "source": [
    "# 연습문제 22"
   ]
  },
  {
   "cell_type": "code",
   "execution_count": 20,
   "id": "27fb2d01-e95a-4808-979d-28cddf98c618",
   "metadata": {},
   "outputs": [
    {
     "name": "stdout",
     "output_type": "stream",
     "text": [
      "데이터가 CSV 및 JSON 파일에 저장되었습니다.\n"
     ]
    }
   ],
   "source": [
    "import pandas as pd\n",
    "import json\n",
    "\n",
    "# 딕셔너리 데이터 준비\n",
    "data = {\n",
    "    '이름': ['철수', '영희', '민수', '지영'],\n",
    "    '나이': [25, 30, 22, 28],\n",
    "    '성별': ['남자', '여자', '남자', '여자']\n",
    "}\n",
    "\n",
    "# 저장 경로 설정 (임의로 변경 가능)\n",
    "csv_path = \"data.csv\"\n",
    "\n",
    "# DataFrame 생성\n",
    "df = pd.DataFrame(data)\n",
    "\n",
    "# CSV 파일 저장\n",
    "df.to_csv(csv_path, index=False, encoding=\"utf-8\")\n",
    "\n",
    "# 저장 경로 설정 (임의로 변경 가능)\n",
    "json_path = \"data.json\"\n",
    "\n",
    "# JSON 파일 저장\n",
    "json_data = df.to_json(json_path)\n",
    "\n",
    "print(\"데이터가 CSV 및 JSON 파일에 저장되었습니다.\")"
   ]
  },
  {
   "cell_type": "markdown",
   "id": "94d0c2c5-f69e-4006-83a4-3faa0aac06e5",
   "metadata": {},
   "source": [
    "# 연습문제 23"
   ]
  },
  {
   "cell_type": "code",
   "execution_count": 53,
   "id": "9994dfbe-863a-4b7d-86ea-d8755d1d1e58",
   "metadata": {},
   "outputs": [
    {
     "name": "stdout",
     "output_type": "stream",
     "text": [
      "    A   B\n",
      "0  A0  B0\n",
      "1  A1  B1\n",
      "2  A2  B2\n",
      "3  A3  B3\n",
      "4  A4  B4\n",
      "5  A5  B5\n"
     ]
    }
   ],
   "source": [
    "import pandas as pd\n",
    "\n",
    "# 두 개의 데이터프레임 생성\n",
    "df1 = pd.DataFrame({'A': ['A0', 'A1', 'A2'],\n",
    " 'B': ['B0', 'B1', 'B2']})\n",
    "\n",
    "df2 = pd.DataFrame({'A': ['A3', 'A4', 'A5'],\n",
    " 'B': ['B3', 'B4', 'B5']})\n",
    "\n",
    "# 여기에 코드를 작성하세요\n",
    "result = pd.concat([df1, df2], ignore_index=True)\n",
    "# 결과 출력\n",
    "print(result)\n"
   ]
  },
  {
   "cell_type": "markdown",
   "id": "83f4bff7-1e5a-41e0-a2c1-d9570c5376d7",
   "metadata": {},
   "source": [
    "# 연습문제 24번"
   ]
  },
  {
   "cell_type": "code",
   "execution_count": 9,
   "id": "fcb765a6-d6e7-45ce-9c8f-a99f7cb9e7d0",
   "metadata": {},
   "outputs": [
    {
     "name": "stdout",
     "output_type": "stream",
     "text": [
      "  key   A   B\n",
      "0  K0  A0  B0\n",
      "1  K1  A1  B1\n",
      "2  K2  A2  B2\n"
     ]
    }
   ],
   "source": [
    "import pandas as pd\n",
    "\n",
    "# 데이터 준비\n",
    "left = pd.DataFrame({'key': ['K0', 'K1', 'K2'], 'A': ['A0', 'A1', 'A2']})\n",
    "right = pd.DataFrame({'key': ['K0', 'K1', 'K2'], 'B': ['B0', 'B1', 'B2']})\n",
    "\n",
    "# 내부 조인 수행\n",
    "result = pd.merge(left, right, on='key', how='inner')\n",
    "\n",
    "# 결과 출력\n",
    "print(result)"
   ]
  },
  {
   "cell_type": "markdown",
   "id": "480dc657-8c9e-497f-a7c3-e82eb07c3a8e",
   "metadata": {},
   "source": [
    "# 연습문제 25번"
   ]
  },
  {
   "cell_type": "code",
   "execution_count": 61,
   "id": "09dc3484-313e-4710-ab11-a4ee9ffbd52d",
   "metadata": {},
   "outputs": [
    {
     "name": "stdout",
     "output_type": "stream",
     "text": [
      "   학생  성적\n",
      "0  민수  90\n",
      "1  영희  75\n",
      "2  지영  85\n",
      "3  철수  80\n"
     ]
    }
   ],
   "source": [
    "import pandas as pd\n",
    "\n",
    "data1 = {'학생' : ['철수', '영희', '민수'], '성적' : [80, 75, 90]}\n",
    "data2 = {'학생' : ['지영'], '성적' : [85]}\n",
    "\n",
    "df1 = pd.DataFrame(data1)\n",
    "df2 = pd.DataFrame(data2)\n",
    "\n",
    "df3 = pd.concat([df1, df2], ignore_index=True)\n",
    "\n",
    "df4 = pd.merge(df1, df2, how='outer')\n",
    "\n",
    "df4.sort_values(by='학생', inplace=True)\n",
    "\n",
    "print(df4)"
   ]
  },
  {
   "cell_type": "markdown",
   "id": "8ed13bce-f13f-4725-a6b4-036ee4cfc394",
   "metadata": {},
   "source": [
    "# 연습문제 26"
   ]
  },
  {
   "cell_type": "code",
   "execution_count": 2,
   "id": "9c660fee-ff94-4328-b295-65d315d87239",
   "metadata": {},
   "outputs": [
    {
     "name": "stdout",
     "output_type": "stream",
     "text": [
      "Concatenation result:\n",
      "   A  B  C   D   E\n",
      "X  1  4  7  10  13\n",
      "Y  2  5  8  11  14\n",
      "Z  3  6  9  12  15\n",
      "Merged result:\n",
      "   A  B  C   D   E\n",
      "X  1  4  7  10  13\n",
      "Y  2  5  8  11  14\n",
      "Z  3  6  9  12  15\n"
     ]
    }
   ],
   "source": [
    "import pandas as pd\n",
    "\n",
    "data1 = {'A': [1, 2, 3], 'B': [4, 5, 6]}\n",
    "data2 = {'C': [7, 8, 9], 'D': [10, 11, 12]}\n",
    "s_data = [13, 14, 15]\n",
    "\n",
    "df1 = pd.DataFrame(data1, index=['X', 'Y', 'Z'])\n",
    "df2 = pd.DataFrame(data2, index=['X', 'Y', 'Z'])\n",
    "s = pd.Series(s_data, index=['X', 'Y', 'Z'])\n",
    "\n",
    "# (1) concat() 함수를 사용하여 데이터프레임 df1과 df2를 수평으로 결합하고, 시리즈 s를 수평으로 결합\n",
    "result_concat = pd.concat([df1, df2, pd.DataFrame(s, columns=['E'])], axis=1)\n",
    "print(\"Concatenation result:\")\n",
    "print(result_concat)\n",
    "\n",
    "# 데이터프레임 df1과 df2를 병합하고 시리즈 s를 추가\n",
    "merged_df = pd.merge(pd.merge(df1, df2, left_index=True, right_index=True, how='outer'), pd.DataFrame(s, columns=['E']), left_index=True, right_index=True, how='outer')\n",
    "\n",
    "print(\"Merged result:\")\n",
    "print(merged_df)\n"
   ]
  },
  {
   "cell_type": "markdown",
   "id": "1ace3957-042b-4a72-b76f-84b8644f0461",
   "metadata": {},
   "source": [
    "# 연습문제 27"
   ]
  },
  {
   "cell_type": "code",
   "execution_count": 112,
   "id": "056bac17-1f91-4f03-81cd-c6b6f30aecc4",
   "metadata": {},
   "outputs": [
    {
     "name": "stdout",
     "output_type": "stream",
     "text": [
      "총점을 포함한 결과:\n",
      "   이름  국어  영어  수학   총점\n",
      "0  철수  90  85  75  250\n",
      "1  영희  80  95  80  255\n",
      "2  민수  85  70  90  245 \n",
      "\n",
      "\n",
      "평균 추가 결과:\n",
      "     이름    국어         영어         수학     총점\n",
      "0    철수  90.0  85.000000  75.000000  250.0\n",
      "1    영희  80.0  95.000000  80.000000  255.0\n",
      "2    민수  85.0  70.000000  90.000000  245.0\n",
      "평균  NaN  85.0  83.333333  81.666667    NaN\n"
     ]
    }
   ],
   "source": [
    "import pandas as pd\n",
    "\n",
    "data = {'이름': ['철수', '영희', '민수'], '국어': [90, 80, 85], '영어': [85, 95, 70], '수학': [75, 80, 90]}\n",
    "df = pd.DataFrame(data)\n",
    "\n",
    "# 학생별 성적 총점 계산\n",
    "df['총점'] = df.apply(lambda row: row['국어'] + row['영어'] + row['수학'], axis=1)\n",
    "\n",
    "print(\"총점을 포함한 결과:\")\n",
    "print(df, '\\n\\n')\n",
    "\n",
    "# 각 행의 평균을 계산하여 '평균' 열에 추가\n",
    "df.loc['평균'] = df.drop(columns=['이름', '총점']).mean()\n",
    "\n",
    "print(\"평균 추가 결과:\")\n",
    "print(df)\n"
   ]
  },
  {
   "cell_type": "code",
   "execution_count": null,
   "id": "28a2c63c-5781-4e55-9d83-4b2cc2902aa2",
   "metadata": {},
   "outputs": [],
   "source": []
  }
 ],
 "metadata": {
  "kernelspec": {
   "display_name": "Python 3 (ipykernel)",
   "language": "python",
   "name": "python3"
  },
  "language_info": {
   "codemirror_mode": {
    "name": "ipython",
    "version": 3
   },
   "file_extension": ".py",
   "mimetype": "text/x-python",
   "name": "python",
   "nbconvert_exporter": "python",
   "pygments_lexer": "ipython3",
   "version": "3.12.2"
  }
 },
 "nbformat": 4,
 "nbformat_minor": 5
}
